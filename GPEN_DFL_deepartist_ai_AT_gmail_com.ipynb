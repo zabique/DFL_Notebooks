{
  "nbformat": 4,
  "nbformat_minor": 0,
  "metadata": {
    "colab": {
      "name": "GPEN_DFL_deepartist.ai@gmail.com.ipynb",
      "private_outputs": true,
      "provenance": [],
      "collapsed_sections": []
    },
    "kernelspec": {
      "name": "python3",
      "display_name": "Python 3"
    },
    "language_info": {
      "name": "python"
    },
    "accelerator": "GPU"
  },
  "cells": [
    {
      "cell_type": "markdown",
      "metadata": {
        "id": "7TLDy5mi1rid"
      },
      "source": [
        "# **GPEN dfl colab by deepartist**\n",
        "Sources: \n",
        "[bycloud - youtube channel](https://www.youtube.com/channel/UCfg9ux4m8P0YDITTPptrmLg) and \n",
        "[video]( https://www.youtube.com/watch?v=2HdFV4k_CCY)\n",
        "\n",
        "[Tendeepfake](mailto:tendeepfake@gmail.com\n",
        ")\n",
        "## *There is no need for colab pro to use it.*\n",
        "\n",
        "[Contact me deepartist](mailto:deepartist.ai@gmail.com)"
      ]
    },
    {
      "cell_type": "markdown",
      "metadata": {
        "id": "EIslFaZkvu_f"
      },
      "source": [
        "\n",
        "\n",
        "---\n",
        "\n"
      ]
    },
    {
      "cell_type": "markdown",
      "metadata": {
        "id": "P0sb1Ng6mGch"
      },
      "source": [
        "# Install"
      ]
    },
    {
      "cell_type": "code",
      "metadata": {
        "id": "Q-Mn4xJsOqdL"
      },
      "source": [
        "#@title Check if you have loaded GPU\n",
        "!nvidia-smi"
      ],
      "execution_count": null,
      "outputs": []
    },
    {
      "cell_type": "markdown",
      "metadata": {
        "id": "IRFCT4eYcMXr"
      },
      "source": [
        "**Mount your Google drive with auth key**\n",
        "\n",
        "1. Connect to your google drive to be able to import and export files to/from google drive\n",
        "2. Click on Link below\n",
        "3. Login and confirm\n",
        "4. Ctrl+V auth key and hit return key\n",
        "\n",
        "**OR mount your Google drive permantly**\n",
        "\n",
        "1. Create new notebook\n",
        "2. Change runtime to GPU\n",
        "3. Click on files, and mount your google drive permantly \n",
        "4. Click in first cell\n",
        "5. Select all cells with shift+down\n",
        "6. Copy all cells from this notebook\n",
        "7. No more auth token coyping\n",
        "\n",
        "**OR SIMPLY SKIP** if you dont want import and export files to/from google drive"
      ]
    },
    {
      "cell_type": "code",
      "metadata": {
        "id": "O2Dlj_TnVLFs",
        "cellView": "form"
      },
      "source": [
        "#@title Connect to your gdrive OR permantly mount it\n",
        "\n",
        "from google.colab import drive\n",
        "drive.mount('/content/drive')"
      ],
      "execution_count": null,
      "outputs": []
    },
    {
      "cell_type": "code",
      "metadata": {
        "id": "aml4kb1ZHSPK",
        "cellView": "form"
      },
      "source": [
        "#@title Clone DFL Git and install needed dependencies\n",
        "!git clone https://github.com/iperov/DeepFaceLab.git /content/DeepFaceLab\n",
        "!pip install colorama\n",
        "print(\"\\nDone\")"
      ],
      "execution_count": null,
      "outputs": []
    },
    {
      "cell_type": "code",
      "metadata": {
        "id": "RRJhu6qnmh_1",
        "cellView": "form"
      },
      "source": [
        "#@title Install all dependencies and download weights from org repo\n",
        "#@title START\n",
        "%cd /content\n",
        "!git clone https://github.com/bycloudai/GPEN\n",
        "!wget https://public-vigen-video.oss-cn-shanghai.aliyuncs.com/robin/models/RetinaFace-R50.pth && mv RetinaFace-R50.pth GPEN/weights/\n",
        "!wget https://public-vigen-video.oss-cn-shanghai.aliyuncs.com/robin/models/GPEN-512.pth && mv GPEN-512.pth GPEN/weights/\n",
        "!wget https://public-vigen-video.oss-cn-shanghai.aliyuncs.com/robin/models/GPEN-1024-Color.pth && mv GPEN-1024-Color.pth GPEN/weights/\n",
        "!pip install torch==1.7.1 torchvision==0.8.2 torchaudio==0.7.2\n",
        "!pip install pip install opencv-python\n",
        "%cd GPEN\n",
        "!wget https://github.com/ninja-build/ninja/releases/download/v1.8.2/ninja-linux.zip\n",
        "!sudo unzip ninja-linux.zip -d /usr/local/bin/\n",
        "!sudo update-alternatives --install /usr/bin/ninja ninja /usr/local/bin/ninja 1 --force\n",
        "!touch \"/content/GPEN/__init__.py\""
      ],
      "execution_count": null,
      "outputs": []
    },
    {
      "cell_type": "code",
      "metadata": {
        "cellView": "form",
        "id": "iykx7AvmD34M"
      },
      "source": [
        "#@title create custom upscale function\n",
        "%cd /content/GPEN\n",
        "!source /content/GPEN/__init__.py\n",
        "from face_enhancement import FaceEnhancement\n",
        "import tqdm \n",
        "import glob \n",
        "import cv2\n",
        "import numpy as np\n",
        "\n",
        "def upscale(indir='examples/imgs', outdir= 'examples/outs', model={'name':'GPEN-512', 'size':512}, filetype='jpg'):\n",
        "  os.makedirs(outdir, exist_ok=True)\n",
        "\n",
        "  faceenhancer = FaceEnhancement(size=model['size'], model=model['name'], channel_multiplier=2)\n",
        "  \n",
        "  files = sorted(glob.glob(os.path.join(indir, '*.*g')))\n",
        "  print(f\"Found {len(files)} files\")\n",
        "  for file in tqdm.tqdm(files[:]):\n",
        "      filename = os.path.basename(file)\n",
        "      \n",
        "      im = cv2.imread(file, cv2.IMREAD_COLOR) # BGR\n",
        "      if not isinstance(im, np.ndarray): print(filename, 'error'); continue\n",
        "      #im = cv2.resize(im, (0,0), fx=1, fy=1) #no rescale\n",
        "\n",
        "      img, orig_faces, enhanced_faces = faceenhancer.process(im)\n",
        "      cv2.imwrite(os.path.join(outdir, '.'.join(filename.split('.')[:-1])+'.jpg'), img)\n",
        "      "
      ],
      "execution_count": null,
      "outputs": []
    },
    {
      "cell_type": "markdown",
      "metadata": {
        "id": "h6KRnTDshAZu"
      },
      "source": [
        "# Upscale Process"
      ]
    },
    {
      "cell_type": "code",
      "metadata": {
        "id": "rvnnwzbdfQmI",
        "cellView": "form"
      },
      "source": [
        "#@title 0. Delete old example and result files\n",
        "!rm -rf /content/GPEN/examples/imgs\n",
        "!mkdir -p /content/GPEN/examples/imgs\n",
        "!rm -rf /content/GPEN/examples/outs\n",
        "!mkdir -p /content/GPEN/examples/outs\n",
        "!rm -rf /content/GPEN/examples/dfl\n",
        "print(\"\\nDone!\")"
      ],
      "execution_count": null,
      "outputs": []
    },
    {
      "cell_type": "markdown",
      "metadata": {
        "id": "_P4bjqcshFye"
      },
      "source": [
        "## Upload files\n",
        "You can upload single or multiple files or your zip aligend folder or faceset.pak"
      ]
    },
    {
      "cell_type": "markdown",
      "metadata": {
        "id": "sg97aUQ9ijyf"
      },
      "source": [
        "### files and zipped aligned folder"
      ]
    },
    {
      "cell_type": "code",
      "metadata": {
        "id": "9pb1b_ZGmbsE",
        "cellView": "form"
      },
      "source": [
        "#@title 1a. Upload one or more (DFL).jpg files to upscale *OR* \n",
        "%cd /content/GPEN/examples/imgs/\n",
        "from google.colab import files\n",
        "uploaded = files.upload()\n",
        "%cd /content/GPEN/\n",
        "print(\"\\nDone!\")"
      ],
      "execution_count": null,
      "outputs": []
    },
    {
      "cell_type": "code",
      "metadata": {
        "colab": {
          "background_save": true
        },
        "id": "deyCE3cXV15m",
        "cellView": "form"
      },
      "source": [
        "#@title 1b. Upload aligned.zip and extract to imgs *OR*\n",
        "%cd /content/\n",
        "!rm aligned.zip\n",
        "from google.colab import files\n",
        "uploaded = files.upload()\n",
        "%cd /content/GPEN/\n",
        "!7z e '/content/aligned.zip' -o'/content/GPEN/examples/imgs'\n",
        "print(\"\\nDone!\")"
      ],
      "execution_count": null,
      "outputs": []
    },
    {
      "cell_type": "code",
      "metadata": {
        "id": "xJxEYbyJI5iD",
        "cellView": "form"
      },
      "source": [
        "#@title 1c. copy aligned.zip from your drive and extract to imgs\n",
        "import os\n",
        "\n",
        "file_on_drive = \"/content/drive/MyDrive/aligned.zip\" #@param {type:\"string\"}\n",
        "%cd /content/\n",
        "!rm aligned.zip\n",
        "!cp $file_on_drive /content/\n",
        "!7z e '/content/aligned.zip' -o'/content/GPEN/examples/imgs'\n",
        "print(\"\\nDone!\")"
      ],
      "execution_count": null,
      "outputs": []
    },
    {
      "cell_type": "markdown",
      "metadata": {
        "id": "NxivmxW9iaIn"
      },
      "source": [
        "### faceset.pak"
      ]
    },
    {
      "cell_type": "code",
      "metadata": {
        "id": "Lfqq_KuSKE2z",
        "cellView": "form"
      },
      "source": [
        "#@title 2b. Upload faceset.pak and extract to imgs *OR*\n",
        "%cd /content/GPEN/examples/imgs/\n",
        "!rm faceset.pak\n",
        "from google.colab import files\n",
        "uploaded = files.upload()\n",
        "%cd /content\n",
        "cmd = \"DeepFaceLab/main.py util --input-dir /content/GPEN/examples/imgs --unpack-faceset\"\n",
        "!python $cmd\n",
        "print(f\"Unpacking done!\")\n",
        "print(\"\\nDone!\")"
      ],
      "execution_count": null,
      "outputs": []
    },
    {
      "cell_type": "code",
      "metadata": {
        "id": "4AUGk_ewLJSt",
        "cellView": "form"
      },
      "source": [
        "#@title 2d. copy faceset.pak from your drive and extract to imgs\n",
        "import os\n",
        "\n",
        "file_on_drive = \"/content/drive/MyDrive/faceset.pak\" #@param {type:\"string\"}\n",
        "%cd /content/\n",
        "!rm faceset.pak\n",
        "!cp $file_on_drive /content/GPEN/examples/imgs/\n",
        "cmd = \"DeepFaceLab/main.py util --input-dir /content/GPEN/examples/imgs/ --unpack-faceset\"\n",
        "!python $cmd\n",
        "print(f\"Unpacking done!\")\n",
        "print(\"\\nDone!\")"
      ],
      "execution_count": null,
      "outputs": []
    },
    {
      "cell_type": "markdown",
      "metadata": {
        "id": "h6c6--04hMz3"
      },
      "source": [
        "## Upscaling\n",
        "run both "
      ]
    },
    {
      "cell_type": "code",
      "metadata": {
        "cellView": "form",
        "id": "0f3N4a4eK-uV"
      },
      "source": [
        "#@title 3. Optional Resize if original faceset if too small\n",
        "%cd /content/\n",
        "cmd = \"DeepFaceLab/main.py facesettool resize --input-dir /content/GPEN/examples/imgs\"\n",
        "!python $cmd"
      ],
      "execution_count": null,
      "outputs": []
    },
    {
      "cell_type": "code",
      "metadata": {
        "id": "qmghdN7ZzfjM",
        "cellView": "form"
      },
      "source": [
        "#@title 4. Save DFL metadata and Start upscaling and restore\n",
        "%cd /content/\n",
        "cmd = \"DeepFaceLab/main.py util --input-dir /content/GPEN/examples/imgs --save-faceset-metadata\"\n",
        "!python $cmd\n",
        "%cd /content/GPEN\n",
        "print(\"Start upscaling\")\n",
        "upscale()\n",
        "print(\"Start upscaling done\")\n",
        "%cd /content/\n",
        "!cp /content/GPEN/examples/imgs/meta.dat /content/GPEN/examples/outs\n",
        "cmd = \"DeepFaceLab/main.py util --input-dir /content/GPEN/examples/outs --restore-faceset-metadata\"\n",
        "!python $cmd\n",
        "print(\"\\nDone!\")"
      ],
      "execution_count": null,
      "outputs": []
    },
    {
      "cell_type": "markdown",
      "metadata": {
        "id": "a5_Vger-hlK3"
      },
      "source": [
        "## Save your enhanced files"
      ]
    },
    {
      "cell_type": "markdown",
      "metadata": {
        "id": "uyEbiXDZiGOm"
      },
      "source": [
        "### Zips"
      ]
    },
    {
      "cell_type": "code",
      "metadata": {
        "id": "5DNNjT3clLJR",
        "cellView": "form"
      },
      "source": [
        "#@title 5a. Zip enhanced faces\n",
        "%rm /content/dfl_enhanced.zip\n",
        "%rm /content/GPEN/examples/outs/faceset.pak\n",
        "!7z a -tzip /content/dfl_enhanced.zip -w /content/GPEN/examples/outs/*\n",
        "print(\"\\nDone!\")"
      ],
      "execution_count": null,
      "outputs": []
    },
    {
      "cell_type": "code",
      "metadata": {
        "id": "nCo5K4xOlnBh",
        "cellView": "form"
      },
      "source": [
        "#@title 5b. Download dfl_enhanced.zip *OR*\n",
        "from google.colab import files\n",
        "files.download(\"/content/dfl_enhanced.zip\")\n",
        "print(\"\\nDone!\")"
      ],
      "execution_count": null,
      "outputs": []
    },
    {
      "cell_type": "code",
      "metadata": {
        "id": "JawWw15eLc3U",
        "cellView": "form"
      },
      "source": [
        "#@title 5c. Copy dfl_enhanced.zip to gdrive\n",
        "from google.colab import files\n",
        "!cp -f /content/dfl_enhanced.zip /content/drive/MyDrive\n",
        "print(\"\\nDone!\")"
      ],
      "execution_count": null,
      "outputs": []
    },
    {
      "cell_type": "markdown",
      "metadata": {
        "id": "yK3LmpSIiLG_"
      },
      "source": [
        "### Faceset.pak"
      ]
    },
    {
      "cell_type": "code",
      "metadata": {
        "id": "oEGoVoJ_PVp_",
        "cellView": "form"
      },
      "source": [
        "#@title 6a. Repack to faceset.pak \n",
        "%cd /content\n",
        "import glob \n",
        "files = glob.glob(\"/content/GPEN/examples/outs/*jpg\")\n",
        "if len(files) > 0:\n",
        "  %rm /content/GPEN/examples/outs/faceset.pak\n",
        "  cmd = \"DeepFaceLab/main.py util --input-dir /content/GPEN/examples/outs --pack-faceset\"\n",
        "  !python $cmd\n",
        "  !cp /content/GPEN/examples/outs/faceset.pak /content/faceset.pak\n",
        "else: \n",
        "  print('No imgs found')\n"
      ],
      "execution_count": null,
      "outputs": []
    },
    {
      "cell_type": "code",
      "metadata": {
        "id": "7nCHAvBpQAsU",
        "cellView": "form"
      },
      "source": [
        "#@title 6b. Download faceset.pak *OR*\n",
        "from google.colab import files\n",
        "files.download(\"/content/GPEN/examples/outs/faceset.pak\")\n",
        "print(\"\\nDone!\")"
      ],
      "execution_count": null,
      "outputs": []
    },
    {
      "cell_type": "code",
      "metadata": {
        "id": "U0DTGaO8PzlF",
        "cellView": "form"
      },
      "source": [
        "#@title 6c. Copy faceset.pak to gdrive\n",
        "from google.colab import files\n",
        "!cp -f /content/GPEN/examples/outs/faceset.pak /content/drive/MyDrive/\n",
        "print(\"\\nDone!\")"
      ],
      "execution_count": null,
      "outputs": []
    }
  ]
}